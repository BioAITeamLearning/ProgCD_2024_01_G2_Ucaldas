{
 "cells": [
  {
   "cell_type": "markdown",
   "metadata": {
    "id": "VJhrlWOMHtjh"
   },
   "source": [
    "# Ejecución de código en multiples lenguajes de programación"
   ]
  },
  {
   "cell_type": "markdown",
   "metadata": {
    "id": "ctMrgygRj4P9"
   },
   "source": [
    "## Ejecutar código en C"
   ]
  },
  {
   "cell_type": "markdown",
   "metadata": {
    "id": "1lUE56WVcjNe"
   },
   "source": [
    "### El Hola Mundo"
   ]
  },
  {
   "cell_type": "code",
   "execution_count": 1,
   "metadata": {
    "colab": {
     "base_uri": "https://localhost:8080/"
    },
    "executionInfo": {
     "elapsed": 22,
     "status": "ok",
     "timestamp": 1677156447779,
     "user": {
      "displayName": "REINEL TABARES SOTO",
      "userId": "06191532127423773923"
     },
     "user_tz": 300
    },
    "id": "sBQBEFZ6Htjh",
    "outputId": "d8c254ff-6289-42ee-9dae-023f23cceb09"
   },
   "outputs": [
    {
     "name": "stdout",
     "output_type": "stream",
     "text": [
      "gcc (Ubuntu 9.4.0-1ubuntu1~20.04.1) 9.4.0\n",
      "Copyright (C) 2019 Free Software Foundation, Inc.\n",
      "This is free software; see the source for copying conditions.  There is NO\n",
      "warranty; not even for MERCHANTABILITY or FITNESS FOR A PARTICULAR PURPOSE.\n",
      "\n"
     ]
    }
   ],
   "source": [
    "# Versión de GCC\n",
    "!gcc --version"
   ]
  },
  {
   "cell_type": "code",
   "execution_count": 2,
   "metadata": {
    "colab": {
     "base_uri": "https://localhost:8080/"
    },
    "executionInfo": {
     "elapsed": 289,
     "status": "ok",
     "timestamp": 1677156499970,
     "user": {
      "displayName": "REINEL TABARES SOTO",
      "userId": "06191532127423773923"
     },
     "user_tz": 300
    },
    "id": "kRGXMkRhHtjh",
    "outputId": "32d6f0a5-d7ae-4898-c335-68d7cb679d50"
   },
   "outputs": [
    {
     "name": "stdout",
     "output_type": "stream",
     "text": [
      "Writing welcome.c\n"
     ]
    }
   ],
   "source": [
    "%%writefile welcome.c\n",
    "#include <stdio.h> /* incluye biblioteca donde se define E/S */\n",
    "int main( ){\n",
    "  printf(\"Hola mundo en C\");\n",
    "  return 0;\n",
    "}"
   ]
  },
  {
   "cell_type": "code",
   "execution_count": 3,
   "metadata": {
    "executionInfo": {
     "elapsed": 584,
     "status": "ok",
     "timestamp": 1677156546796,
     "user": {
      "displayName": "REINEL TABARES SOTO",
      "userId": "06191532127423773923"
     },
     "user_tz": 300
    },
    "id": "blzbUe0jHtjh"
   },
   "outputs": [],
   "source": [
    "!gcc welcome.c -o welcome"
   ]
  },
  {
   "cell_type": "code",
   "execution_count": 4,
   "metadata": {
    "colab": {
     "base_uri": "https://localhost:8080/"
    },
    "executionInfo": {
     "elapsed": 255,
     "status": "ok",
     "timestamp": 1677156562837,
     "user": {
      "displayName": "REINEL TABARES SOTO",
      "userId": "06191532127423773923"
     },
     "user_tz": 300
    },
    "id": "0ftVkQTdHtjh",
    "outputId": "9c8e53ec-fd1d-4b27-e34b-5a1ca743df29"
   },
   "outputs": [
    {
     "name": "stdout",
     "output_type": "stream",
     "text": [
      "Hola mundo en C"
     ]
    }
   ],
   "source": [
    "!./welcome"
   ]
  },
  {
   "cell_type": "markdown",
   "metadata": {
    "id": "3hlnkzulMowX"
   },
   "source": [
    "### Condicionales en C"
   ]
  },
  {
   "cell_type": "code",
   "execution_count": 6,
   "metadata": {
    "colab": {
     "base_uri": "https://localhost:8080/"
    },
    "executionInfo": {
     "elapsed": 371,
     "status": "ok",
     "timestamp": 1677156839488,
     "user": {
      "displayName": "REINEL TABARES SOTO",
      "userId": "06191532127423773923"
     },
     "user_tz": 300
    },
    "id": "crhrupKaMc4J",
    "outputId": "f1c0b13a-da5f-4b05-c75c-e86439dd9499"
   },
   "outputs": [
    {
     "name": "stdout",
     "output_type": "stream",
     "text": [
      "Overwriting welcome.c\n"
     ]
    }
   ],
   "source": [
    "# Uso de if, else, else if\n",
    "%%writefile welcome.c\n",
    "\n",
    "#include <stdio.h> \n",
    "int main( ){\n",
    "  int myNum = 10; // Is this a positive or negative number?\n",
    "\n",
    "  if (myNum > 0) {\n",
    "    printf(\"The value is a positive number.\");\n",
    "  } else if (myNum < 0) {\n",
    "    printf(\"The value is a negative number.\");\n",
    "  } else {\n",
    "    printf(\"The value is 0.\");\n",
    "  }\n",
    "  return 0;\n",
    "}"
   ]
  },
  {
   "cell_type": "code",
   "execution_count": 7,
   "metadata": {
    "executionInfo": {
     "elapsed": 298,
     "status": "ok",
     "timestamp": 1677156842624,
     "user": {
      "displayName": "REINEL TABARES SOTO",
      "userId": "06191532127423773923"
     },
     "user_tz": 300
    },
    "id": "E8h2UZwfOgpd"
   },
   "outputs": [],
   "source": [
    "!gcc welcome.c -o welcome"
   ]
  },
  {
   "cell_type": "code",
   "execution_count": 8,
   "metadata": {
    "colab": {
     "base_uri": "https://localhost:8080/"
    },
    "executionInfo": {
     "elapsed": 3,
     "status": "ok",
     "timestamp": 1677156843397,
     "user": {
      "displayName": "REINEL TABARES SOTO",
      "userId": "06191532127423773923"
     },
     "user_tz": 300
    },
    "id": "TCbM2NcGOgzH",
    "outputId": "027b2b31-aa3f-499e-b034-d18234f2e29d"
   },
   "outputs": [
    {
     "name": "stdout",
     "output_type": "stream",
     "text": [
      "The value is a positive number."
     ]
    }
   ],
   "source": [
    "!./welcome"
   ]
  },
  {
   "cell_type": "code",
   "execution_count": 9,
   "metadata": {
    "colab": {
     "base_uri": "https://localhost:8080/"
    },
    "executionInfo": {
     "elapsed": 254,
     "status": "ok",
     "timestamp": 1677156877095,
     "user": {
      "displayName": "REINEL TABARES SOTO",
      "userId": "06191532127423773923"
     },
     "user_tz": 300
    },
    "id": "ivtbrZADWE3b",
    "outputId": "c9c6ac80-5c05-4be4-c8eb-15511f7c75ae"
   },
   "outputs": [
    {
     "name": "stdout",
     "output_type": "stream",
     "text": [
      "Overwriting welcome.c\n"
     ]
    }
   ],
   "source": [
    "# Uso de switch\n",
    "%%writefile welcome.c\n",
    "#include <stdio.h> \n",
    "int main( ){\n",
    "  int day = 4;\n",
    "\n",
    "  switch (day) {\n",
    "    case 1:\n",
    "      printf(\"Monday\");\n",
    "      break;\n",
    "    case 2:\n",
    "      printf(\"Tuesday\");\n",
    "      break;\n",
    "    case 3:\n",
    "      printf(\"Wednesday\");\n",
    "      break;\n",
    "    case 4:\n",
    "      printf(\"Thursday\");\n",
    "      break;\n",
    "    case 5:\n",
    "      printf(\"Friday\");\n",
    "      break;\n",
    "    case 6:\n",
    "      printf(\"Saturday\");\n",
    "      break;\n",
    "    case 7:\n",
    "      printf(\"Sunday\");\n",
    "      break;\n",
    "  }\n",
    "  return 0;\n",
    "}\n"
   ]
  },
  {
   "cell_type": "code",
   "execution_count": 10,
   "metadata": {
    "executionInfo": {
     "elapsed": 242,
     "status": "ok",
     "timestamp": 1677156879569,
     "user": {
      "displayName": "REINEL TABARES SOTO",
      "userId": "06191532127423773923"
     },
     "user_tz": 300
    },
    "id": "yaQdt0RkWFEV"
   },
   "outputs": [],
   "source": [
    "!gcc welcome.c -o welcome"
   ]
  },
  {
   "cell_type": "code",
   "execution_count": 11,
   "metadata": {
    "colab": {
     "base_uri": "https://localhost:8080/"
    },
    "executionInfo": {
     "elapsed": 8,
     "status": "ok",
     "timestamp": 1677156880891,
     "user": {
      "displayName": "REINEL TABARES SOTO",
      "userId": "06191532127423773923"
     },
     "user_tz": 300
    },
    "id": "McoKUiyRWFP7",
    "outputId": "9f5c856a-594b-47ea-9f5e-322027c6acb9"
   },
   "outputs": [
    {
     "name": "stdout",
     "output_type": "stream",
     "text": [
      "Thursday"
     ]
    }
   ],
   "source": [
    "!./welcome"
   ]
  },
  {
   "cell_type": "markdown",
   "metadata": {
    "id": "ZjMoIUxaMuad"
   },
   "source": [
    "### Ciclos en C"
   ]
  },
  {
   "cell_type": "code",
   "execution_count": 12,
   "metadata": {
    "colab": {
     "base_uri": "https://localhost:8080/"
    },
    "executionInfo": {
     "elapsed": 7,
     "status": "ok",
     "timestamp": 1677156900652,
     "user": {
      "displayName": "REINEL TABARES SOTO",
      "userId": "06191532127423773923"
     },
     "user_tz": 300
    },
    "id": "qpBkLJgdMdKT",
    "outputId": "d8007a86-460c-488a-fc74-41a1f8309f7a"
   },
   "outputs": [
    {
     "name": "stdout",
     "output_type": "stream",
     "text": [
      "Overwriting welcome.c\n"
     ]
    }
   ],
   "source": [
    "# Uso de While\n",
    "%%writefile welcome.c\n",
    "#include <stdio.h> \n",
    "int main( ){\n",
    "  int i = 0;\n",
    "\n",
    "  while (i < 5) {\n",
    "    printf(\"%d\\n\", i);\n",
    "    i++;\n",
    "  }\n",
    "  return 0;\n",
    "}\n"
   ]
  },
  {
   "cell_type": "code",
   "execution_count": 13,
   "metadata": {
    "executionInfo": {
     "elapsed": 3,
     "status": "ok",
     "timestamp": 1677156901720,
     "user": {
      "displayName": "REINEL TABARES SOTO",
      "userId": "06191532127423773923"
     },
     "user_tz": 300
    },
    "id": "NqVH17beVkHT"
   },
   "outputs": [],
   "source": [
    "!gcc welcome.c -o welcome"
   ]
  },
  {
   "cell_type": "code",
   "execution_count": 14,
   "metadata": {
    "colab": {
     "base_uri": "https://localhost:8080/"
    },
    "executionInfo": {
     "elapsed": 337,
     "status": "ok",
     "timestamp": 1677156903447,
     "user": {
      "displayName": "REINEL TABARES SOTO",
      "userId": "06191532127423773923"
     },
     "user_tz": 300
    },
    "id": "qt9c4j10Vs79",
    "outputId": "d20b9bf1-21b1-4600-fc14-a66c44797f9a"
   },
   "outputs": [
    {
     "name": "stdout",
     "output_type": "stream",
     "text": [
      "0\n",
      "1\n",
      "2\n",
      "3\n",
      "4\n"
     ]
    }
   ],
   "source": [
    "!./welcome"
   ]
  },
  {
   "cell_type": "code",
   "execution_count": 15,
   "metadata": {
    "colab": {
     "base_uri": "https://localhost:8080/"
    },
    "executionInfo": {
     "elapsed": 294,
     "status": "ok",
     "timestamp": 1677156918542,
     "user": {
      "displayName": "REINEL TABARES SOTO",
      "userId": "06191532127423773923"
     },
     "user_tz": 300
    },
    "id": "1LVOfG2zXg9g",
    "outputId": "768bae2a-98f7-414e-f3e3-83b80766d0cc"
   },
   "outputs": [
    {
     "name": "stdout",
     "output_type": "stream",
     "text": [
      "Overwriting welcome.c\n"
     ]
    }
   ],
   "source": [
    "# Uso de do while\n",
    "%%writefile welcome.c\n",
    "#include <stdio.h> \n",
    "int main( ){\n",
    "  \n",
    "  int i = 0;\n",
    "\n",
    "  do {\n",
    "    printf(\"%d\\n\", i);\n",
    "    i++;\n",
    "  }\n",
    "  while (i < 5);\n",
    "\n",
    "  return 0;\n",
    "}\n"
   ]
  },
  {
   "cell_type": "code",
   "execution_count": 16,
   "metadata": {
    "executionInfo": {
     "elapsed": 261,
     "status": "ok",
     "timestamp": 1677156924807,
     "user": {
      "displayName": "REINEL TABARES SOTO",
      "userId": "06191532127423773923"
     },
     "user_tz": 300
    },
    "id": "bw8Jg1GxXhKd"
   },
   "outputs": [],
   "source": [
    "!gcc welcome.c -o welcome"
   ]
  },
  {
   "cell_type": "code",
   "execution_count": 17,
   "metadata": {
    "colab": {
     "base_uri": "https://localhost:8080/"
    },
    "executionInfo": {
     "elapsed": 5,
     "status": "ok",
     "timestamp": 1677156927038,
     "user": {
      "displayName": "REINEL TABARES SOTO",
      "userId": "06191532127423773923"
     },
     "user_tz": 300
    },
    "id": "umQ7SdvEXkLE",
    "outputId": "9b65d0ed-5673-4e6b-c1ae-6573606c18ad"
   },
   "outputs": [
    {
     "name": "stdout",
     "output_type": "stream",
     "text": [
      "0\n",
      "1\n",
      "2\n",
      "3\n",
      "4\n"
     ]
    }
   ],
   "source": [
    "!./welcome"
   ]
  },
  {
   "cell_type": "code",
   "execution_count": 18,
   "metadata": {
    "colab": {
     "base_uri": "https://localhost:8080/"
    },
    "executionInfo": {
     "elapsed": 273,
     "status": "ok",
     "timestamp": 1677156940412,
     "user": {
      "displayName": "REINEL TABARES SOTO",
      "userId": "06191532127423773923"
     },
     "user_tz": 300
    },
    "id": "DrdOgFe8Zoij",
    "outputId": "91fadb91-558d-41c1-9508-c50fe0fbe533"
   },
   "outputs": [
    {
     "name": "stdout",
     "output_type": "stream",
     "text": [
      "Overwriting welcome.c\n"
     ]
    }
   ],
   "source": [
    "# Uso de for\n",
    "%%writefile welcome.c\n",
    "#include <stdio.h> \n",
    "int main( ){\n",
    "  \n",
    "  int i;\n",
    "\n",
    "  for (i = 0; i < 5; i++) {\n",
    "    printf(\"%d\\n\", i);\n",
    "  }\n",
    "\n",
    "  return 0;\n",
    "}"
   ]
  },
  {
   "cell_type": "code",
   "execution_count": 19,
   "metadata": {
    "executionInfo": {
     "elapsed": 270,
     "status": "ok",
     "timestamp": 1677156963309,
     "user": {
      "displayName": "REINEL TABARES SOTO",
      "userId": "06191532127423773923"
     },
     "user_tz": 300
    },
    "id": "Ii95i5vIZowt"
   },
   "outputs": [],
   "source": [
    "!gcc welcome.c -o welcome"
   ]
  },
  {
   "cell_type": "code",
   "execution_count": 20,
   "metadata": {
    "colab": {
     "base_uri": "https://localhost:8080/"
    },
    "executionInfo": {
     "elapsed": 329,
     "status": "ok",
     "timestamp": 1677156964592,
     "user": {
      "displayName": "REINEL TABARES SOTO",
      "userId": "06191532127423773923"
     },
     "user_tz": 300
    },
    "id": "lqIqAgHeZqWj",
    "outputId": "9965c96f-726d-4cf0-fc01-654c973f9416"
   },
   "outputs": [
    {
     "name": "stdout",
     "output_type": "stream",
     "text": [
      "0\n",
      "1\n",
      "2\n",
      "3\n",
      "4\n"
     ]
    }
   ],
   "source": [
    "!./welcome"
   ]
  },
  {
   "cell_type": "code",
   "execution_count": 21,
   "metadata": {
    "colab": {
     "base_uri": "https://localhost:8080/"
    },
    "executionInfo": {
     "elapsed": 231,
     "status": "ok",
     "timestamp": 1677156995488,
     "user": {
      "displayName": "REINEL TABARES SOTO",
      "userId": "06191532127423773923"
     },
     "user_tz": 300
    },
    "id": "OgdBYmvyZ_VV",
    "outputId": "ed93c861-42e0-457b-d7a3-0dc669a3f99c"
   },
   "outputs": [
    {
     "name": "stdout",
     "output_type": "stream",
     "text": [
      "Overwriting welcome.c\n"
     ]
    }
   ],
   "source": [
    "# Uso de for anidado\n",
    "%%writefile welcome.c\n",
    "#include <stdio.h> \n",
    "int main( ){\n",
    "  \n",
    "  int i, j;\n",
    "\n",
    "  // Outer loop\n",
    "  for (i = 1; i <= 2; ++i) {\n",
    "    printf(\"Outer: %d\\n\", i);  // Executes 2 times\n",
    "\n",
    "    // Inner loop\n",
    "    for (j = 1; j <= 3; ++j) {\n",
    "      printf(\" Inner: %d\\n\", j);  // Executes 6 times (2 * 3)\n",
    "    }\n",
    "  }\n",
    "\n",
    "  return 0;\n",
    "}\n"
   ]
  },
  {
   "cell_type": "code",
   "execution_count": 22,
   "metadata": {
    "executionInfo": {
     "elapsed": 5,
     "status": "ok",
     "timestamp": 1677156996874,
     "user": {
      "displayName": "REINEL TABARES SOTO",
      "userId": "06191532127423773923"
     },
     "user_tz": 300
    },
    "id": "U26wXkvUZ_gl"
   },
   "outputs": [],
   "source": [
    "!gcc welcome.c -o welcome"
   ]
  },
  {
   "cell_type": "code",
   "execution_count": 23,
   "metadata": {
    "colab": {
     "base_uri": "https://localhost:8080/"
    },
    "executionInfo": {
     "elapsed": 325,
     "status": "ok",
     "timestamp": 1677156999968,
     "user": {
      "displayName": "REINEL TABARES SOTO",
      "userId": "06191532127423773923"
     },
     "user_tz": 300
    },
    "id": "NDI6Mj3sZ_vJ",
    "outputId": "4de36287-6652-49ff-f12f-4502407d7266"
   },
   "outputs": [
    {
     "name": "stdout",
     "output_type": "stream",
     "text": [
      "Outer: 1\n",
      " Inner: 1\n",
      " Inner: 2\n",
      " Inner: 3\n",
      "Outer: 2\n",
      " Inner: 1\n",
      " Inner: 2\n",
      " Inner: 3\n"
     ]
    }
   ],
   "source": [
    "!./welcome"
   ]
  },
  {
   "cell_type": "code",
   "execution_count": 25,
   "metadata": {
    "colab": {
     "base_uri": "https://localhost:8080/"
    },
    "executionInfo": {
     "elapsed": 229,
     "status": "ok",
     "timestamp": 1677157119036,
     "user": {
      "displayName": "REINEL TABARES SOTO",
      "userId": "06191532127423773923"
     },
     "user_tz": 300
    },
    "id": "5Ve0RW3LbEov",
    "outputId": "07b0eda0-f13a-42a6-c74b-ca1739495adf"
   },
   "outputs": [
    {
     "name": "stdout",
     "output_type": "stream",
     "text": [
      "Overwriting welcome.c\n"
     ]
    }
   ],
   "source": [
    "# Uso de break en un while\n",
    "%%writefile welcome.c\n",
    "#include <stdio.h> \n",
    "int main( ){\n",
    "  \n",
    "  int i = 0;\n",
    "\n",
    "  while (i < 10) {\n",
    "    if (i == 4) {\n",
    "      break;\n",
    "    }\n",
    "    printf(\"%d\\n\", i);\n",
    "    i++;\n",
    "  }\n",
    "\n",
    "  return 0;\n",
    "}\n"
   ]
  },
  {
   "cell_type": "code",
   "execution_count": 26,
   "metadata": {
    "executionInfo": {
     "elapsed": 264,
     "status": "ok",
     "timestamp": 1677157119530,
     "user": {
      "displayName": "REINEL TABARES SOTO",
      "userId": "06191532127423773923"
     },
     "user_tz": 300
    },
    "id": "3sxFTIVhbE4f"
   },
   "outputs": [],
   "source": [
    "!gcc welcome.c -o welcome"
   ]
  },
  {
   "cell_type": "code",
   "execution_count": 27,
   "metadata": {
    "colab": {
     "base_uri": "https://localhost:8080/"
    },
    "executionInfo": {
     "elapsed": 342,
     "status": "ok",
     "timestamp": 1677157121016,
     "user": {
      "displayName": "REINEL TABARES SOTO",
      "userId": "06191532127423773923"
     },
     "user_tz": 300
    },
    "id": "4Q67v0i5bFHF",
    "outputId": "4ea5bb3c-5044-471e-fb1f-3de665fc10a2"
   },
   "outputs": [
    {
     "name": "stdout",
     "output_type": "stream",
     "text": [
      "0\n",
      "1\n",
      "2\n",
      "3\n"
     ]
    }
   ],
   "source": [
    "!./welcome"
   ]
  },
  {
   "cell_type": "markdown",
   "metadata": {
    "id": "lKx8eEftMxy5"
   },
   "source": [
    "### Funciones en C"
   ]
  },
  {
   "cell_type": "code",
   "execution_count": 28,
   "metadata": {
    "colab": {
     "base_uri": "https://localhost:8080/"
    },
    "executionInfo": {
     "elapsed": 4,
     "status": "ok",
     "timestamp": 1677157140895,
     "user": {
      "displayName": "REINEL TABARES SOTO",
      "userId": "06191532127423773923"
     },
     "user_tz": 300
    },
    "id": "C2sPppCAMhnP",
    "outputId": "629b78b1-cb7c-4744-e749-6d533a7ee70e"
   },
   "outputs": [
    {
     "name": "stdout",
     "output_type": "stream",
     "text": [
      "Overwriting welcome.c\n"
     ]
    }
   ],
   "source": [
    "# Crear una función y utilizarla\n",
    "%%writefile welcome.c\n",
    "#include <stdio.h> \n",
    "\n",
    "void myFunction() {\n",
    "  printf(\"I just got executed!\\n\");\n",
    "}\n",
    "\n",
    "int main( ){\n",
    "  myFunction(); // Llamar a la función\n",
    "  myFunction(); // Llamar a la función por segunda vez\n",
    "  return 0;\n",
    "}\n"
   ]
  },
  {
   "cell_type": "code",
   "execution_count": 29,
   "metadata": {
    "executionInfo": {
     "elapsed": 353,
     "status": "ok",
     "timestamp": 1677157154239,
     "user": {
      "displayName": "REINEL TABARES SOTO",
      "userId": "06191532127423773923"
     },
     "user_tz": 300
    },
    "id": "r0PAeSTLenGV"
   },
   "outputs": [],
   "source": [
    "!gcc welcome.c -o welcome"
   ]
  },
  {
   "cell_type": "code",
   "execution_count": 30,
   "metadata": {
    "colab": {
     "base_uri": "https://localhost:8080/"
    },
    "executionInfo": {
     "elapsed": 6,
     "status": "ok",
     "timestamp": 1677157155310,
     "user": {
      "displayName": "REINEL TABARES SOTO",
      "userId": "06191532127423773923"
     },
     "user_tz": 300
    },
    "id": "kSH45n4henYX",
    "outputId": "1e1606a6-03c4-4e82-b297-eb79367517f8"
   },
   "outputs": [
    {
     "name": "stdout",
     "output_type": "stream",
     "text": [
      "I just got executed!\n",
      "I just got executed!\n"
     ]
    }
   ],
   "source": [
    "!./welcome"
   ]
  },
  {
   "cell_type": "code",
   "execution_count": 32,
   "metadata": {
    "colab": {
     "base_uri": "https://localhost:8080/"
    },
    "executionInfo": {
     "elapsed": 466,
     "status": "ok",
     "timestamp": 1677157251322,
     "user": {
      "displayName": "REINEL TABARES SOTO",
      "userId": "06191532127423773923"
     },
     "user_tz": 300
    },
    "id": "2NcDsMlnfLiI",
    "outputId": "6c5511dc-0a0f-4dba-972e-8db0ebe22f7a"
   },
   "outputs": [
    {
     "name": "stdout",
     "output_type": "stream",
     "text": [
      "Overwriting welcome.c\n"
     ]
    }
   ],
   "source": [
    "# Crear una función con entrada de Multiples parámetros y utilizarla\n",
    "%%writefile welcome.c\n",
    "#include <stdio.h> \n",
    "\n",
    "void myFunction(char name[], int age) {\n",
    "  printf(\"Hello %s. You are %d years old.\\n\", name, age);\n",
    "}\n",
    "\n",
    "int main() {\n",
    "  myFunction(\"Liam\", 3);\n",
    "  myFunction(\"Jenny\", 14);\n",
    "  myFunction(\"Anja\", 30);\n",
    "  return 0;\n",
    "}"
   ]
  },
  {
   "cell_type": "code",
   "execution_count": 33,
   "metadata": {
    "executionInfo": {
     "elapsed": 6,
     "status": "ok",
     "timestamp": 1677157252348,
     "user": {
      "displayName": "REINEL TABARES SOTO",
      "userId": "06191532127423773923"
     },
     "user_tz": 300
    },
    "id": "KyUtAqizfLpp"
   },
   "outputs": [],
   "source": [
    "!gcc welcome.c -o welcome"
   ]
  },
  {
   "cell_type": "code",
   "execution_count": 34,
   "metadata": {
    "colab": {
     "base_uri": "https://localhost:8080/"
    },
    "executionInfo": {
     "elapsed": 9,
     "status": "ok",
     "timestamp": 1677157253397,
     "user": {
      "displayName": "REINEL TABARES SOTO",
      "userId": "06191532127423773923"
     },
     "user_tz": 300
    },
    "id": "1Fbkp98NfLyq",
    "outputId": "485621b6-645b-492d-c66b-06ce052ac801"
   },
   "outputs": [
    {
     "name": "stdout",
     "output_type": "stream",
     "text": [
      "Hello Liam. You are 3 years old.\n",
      "Hello Jenny. You are 14 years old.\n",
      "Hello Anja. You are 30 years old.\n"
     ]
    }
   ],
   "source": [
    "!./welcome"
   ]
  },
  {
   "cell_type": "code",
   "execution_count": 38,
   "metadata": {
    "colab": {
     "base_uri": "https://localhost:8080/"
    },
    "executionInfo": {
     "elapsed": 4,
     "status": "ok",
     "timestamp": 1677157347570,
     "user": {
      "displayName": "REINEL TABARES SOTO",
      "userId": "06191532127423773923"
     },
     "user_tz": 300
    },
    "id": "ELU_qKi-fL8K",
    "outputId": "c6b49a8c-ef3d-4ed1-890a-6520c6882d0a"
   },
   "outputs": [
    {
     "name": "stdout",
     "output_type": "stream",
     "text": [
      "Overwriting welcome.c\n"
     ]
    }
   ],
   "source": [
    "# Crear una función que Retorna un resultado y utilizarla\n",
    "%%writefile welcome.c\n",
    "#include <stdio.h> \n",
    "\n",
    "int myFunction(int x) {\n",
    "  return 5 + x;\n",
    "}\n",
    "\n",
    "int main() {\n",
    "  printf(\"Result is: %d\", myFunction(3));\n",
    "  return 0;\n",
    "}"
   ]
  },
  {
   "cell_type": "code",
   "execution_count": 39,
   "metadata": {
    "executionInfo": {
     "elapsed": 270,
     "status": "ok",
     "timestamp": 1677157348346,
     "user": {
      "displayName": "REINEL TABARES SOTO",
      "userId": "06191532127423773923"
     },
     "user_tz": 300
    },
    "id": "_bQYmz7jfME3"
   },
   "outputs": [],
   "source": [
    "!gcc welcome.c -o welcome"
   ]
  },
  {
   "cell_type": "code",
   "execution_count": 40,
   "metadata": {
    "colab": {
     "base_uri": "https://localhost:8080/"
    },
    "executionInfo": {
     "elapsed": 9,
     "status": "ok",
     "timestamp": 1677157348968,
     "user": {
      "displayName": "REINEL TABARES SOTO",
      "userId": "06191532127423773923"
     },
     "user_tz": 300
    },
    "id": "Hns-KKqGfMNz",
    "outputId": "631504e9-7aee-4c96-ca9e-13f5d0b9f46e"
   },
   "outputs": [
    {
     "name": "stdout",
     "output_type": "stream",
     "text": [
      "Result is: 8"
     ]
    }
   ],
   "source": [
    "!./welcome"
   ]
  },
  {
   "cell_type": "markdown",
   "metadata": {
    "id": "Ys3SHgrXM028"
   },
   "source": [
    "### Matrices en C"
   ]
  },
  {
   "cell_type": "code",
   "execution_count": 41,
   "metadata": {
    "colab": {
     "base_uri": "https://localhost:8080/"
    },
    "executionInfo": {
     "elapsed": 500,
     "status": "ok",
     "timestamp": 1677157409476,
     "user": {
      "displayName": "REINEL TABARES SOTO",
      "userId": "06191532127423773923"
     },
     "user_tz": 300
    },
    "id": "RQ4TMLObMh53",
    "outputId": "68740f96-7eba-4662-a0c4-114de9753c64"
   },
   "outputs": [
    {
     "name": "stdout",
     "output_type": "stream",
     "text": [
      "Overwriting welcome.c\n"
     ]
    }
   ],
   "source": [
    "# Crear un Array 1D (Vector) y recorrerlo usando un for\n",
    "%%writefile welcome.c\n",
    "#include <stdio.h> \n",
    "\n",
    "int main() {\n",
    "  int myNumbers[] = {25, 50, 75, 100};\n",
    "  int i;\n",
    "\n",
    "  for (i = 0; i < 4; i++) {\n",
    "    printf(\"%d\\n\", myNumbers[i]);\n",
    "  }\n",
    "  return 0;\n",
    "}\n"
   ]
  },
  {
   "cell_type": "code",
   "execution_count": 42,
   "metadata": {
    "executionInfo": {
     "elapsed": 5,
     "status": "ok",
     "timestamp": 1677157410788,
     "user": {
      "displayName": "REINEL TABARES SOTO",
      "userId": "06191532127423773923"
     },
     "user_tz": 300
    },
    "id": "qO4yOWyPf26V"
   },
   "outputs": [],
   "source": [
    "!gcc welcome.c -o welcome"
   ]
  },
  {
   "cell_type": "code",
   "execution_count": 43,
   "metadata": {
    "colab": {
     "base_uri": "https://localhost:8080/"
    },
    "executionInfo": {
     "elapsed": 348,
     "status": "ok",
     "timestamp": 1677157413383,
     "user": {
      "displayName": "REINEL TABARES SOTO",
      "userId": "06191532127423773923"
     },
     "user_tz": 300
    },
    "id": "Z8ujm2k8f3dD",
    "outputId": "9d34b984-88f1-4609-da09-d49d8b34a899"
   },
   "outputs": [
    {
     "name": "stdout",
     "output_type": "stream",
     "text": [
      "25\n",
      "50\n",
      "75\n",
      "100\n"
     ]
    }
   ],
   "source": [
    "!./welcome"
   ]
  },
  {
   "cell_type": "code",
   "execution_count": 48,
   "metadata": {
    "colab": {
     "base_uri": "https://localhost:8080/"
    },
    "executionInfo": {
     "elapsed": 291,
     "status": "ok",
     "timestamp": 1677157733029,
     "user": {
      "displayName": "REINEL TABARES SOTO",
      "userId": "06191532127423773923"
     },
     "user_tz": 300
    },
    "id": "Y8jgrJuohJZ7",
    "outputId": "72bd966f-7518-42ae-e200-5a6081683ef7"
   },
   "outputs": [
    {
     "name": "stdout",
     "output_type": "stream",
     "text": [
      "Overwriting welcome.c\n"
     ]
    }
   ],
   "source": [
    "# Crear un Array 2D (Matriz) y recorrerla usando un for\n",
    "%%writefile welcome.c\n",
    "#include <stdio.h> \n",
    "\n",
    "int main() {\n",
    "  int matrix[2][3] = { {1, 4, 2}, {3, 6, 8} };\n",
    "\n",
    "  int i, j;\n",
    "  for (i = 0; i < 2; i++) {\n",
    "    for (j = 0; j < 3; j++) {\n",
    "      printf(\"%d\\n\", matrix[i][j]);\n",
    "    }\n",
    "  }\n",
    "  return 0;\n",
    "}\n"
   ]
  },
  {
   "cell_type": "markdown",
   "metadata": {
    "id": "OEVsq1ptiIo_"
   },
   "source": [
    "![image.png](data:image/png;base64,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)"
   ]
  },
  {
   "cell_type": "code",
   "execution_count": 49,
   "metadata": {
    "executionInfo": {
     "elapsed": 3,
     "status": "ok",
     "timestamp": 1677157734771,
     "user": {
      "displayName": "REINEL TABARES SOTO",
      "userId": "06191532127423773923"
     },
     "user_tz": 300
    },
    "id": "fmZ7nB-bhJkZ"
   },
   "outputs": [],
   "source": [
    "!gcc welcome.c -o welcome"
   ]
  },
  {
   "cell_type": "code",
   "execution_count": 50,
   "metadata": {
    "colab": {
     "base_uri": "https://localhost:8080/"
    },
    "executionInfo": {
     "elapsed": 8,
     "status": "ok",
     "timestamp": 1677157736423,
     "user": {
      "displayName": "REINEL TABARES SOTO",
      "userId": "06191532127423773923"
     },
     "user_tz": 300
    },
    "id": "0ogBfMWOhJuL",
    "outputId": "3c66f530-e4da-4360-fa54-006b5ce69fc3"
   },
   "outputs": [
    {
     "name": "stdout",
     "output_type": "stream",
     "text": [
      "1\n",
      "4\n",
      "2\n",
      "3\n",
      "6\n",
      "8\n"
     ]
    }
   ],
   "source": [
    "!./welcome"
   ]
  },
  {
   "cell_type": "markdown",
   "metadata": {
    "id": "Cji6RCgSHtjh"
   },
   "source": [
    "## Ejecutar código en C++"
   ]
  },
  {
   "cell_type": "code",
   "execution_count": 51,
   "metadata": {
    "colab": {
     "base_uri": "https://localhost:8080/"
    },
    "executionInfo": {
     "elapsed": 271,
     "status": "ok",
     "timestamp": 1677157758780,
     "user": {
      "displayName": "REINEL TABARES SOTO",
      "userId": "06191532127423773923"
     },
     "user_tz": 300
    },
    "id": "Wq78tYB-Htjh",
    "outputId": "15ac637e-aebb-45cb-f062-5e78825e05c0"
   },
   "outputs": [
    {
     "name": "stdout",
     "output_type": "stream",
     "text": [
      "Writing welcome.cpp\n"
     ]
    }
   ],
   "source": [
    "%%writefile welcome.cpp\n",
    "#include <iostream>\n",
    "int main()\n",
    "{\n",
    "    std::cout << \"Hola mundo en C++\";\n",
    "    return 0;\n",
    "}"
   ]
  },
  {
   "cell_type": "code",
   "execution_count": 52,
   "metadata": {
    "executionInfo": {
     "elapsed": 1021,
     "status": "ok",
     "timestamp": 1677157764302,
     "user": {
      "displayName": "REINEL TABARES SOTO",
      "userId": "06191532127423773923"
     },
     "user_tz": 300
    },
    "id": "QSuf7p6WHtji"
   },
   "outputs": [],
   "source": [
    "%%bash\n",
    "g++ welcome.cpp -o welcome"
   ]
  },
  {
   "cell_type": "code",
   "execution_count": 53,
   "metadata": {
    "colab": {
     "base_uri": "https://localhost:8080/"
    },
    "executionInfo": {
     "elapsed": 7,
     "status": "ok",
     "timestamp": 1677157766207,
     "user": {
      "displayName": "REINEL TABARES SOTO",
      "userId": "06191532127423773923"
     },
     "user_tz": 300
    },
    "id": "7QqLkZiKHtji",
    "outputId": "d63f842b-6c02-4989-975c-214e093f390c"
   },
   "outputs": [
    {
     "name": "stdout",
     "output_type": "stream",
     "text": [
      "Hola mundo en C++"
     ]
    }
   ],
   "source": [
    "%%bash\n",
    "./welcome"
   ]
  },
  {
   "cell_type": "markdown",
   "metadata": {
    "id": "eIEBkkOxHtji"
   },
   "source": [
    "## Ejecutar código en R"
   ]
  },
  {
   "cell_type": "code",
   "execution_count": 54,
   "metadata": {
    "colab": {
     "base_uri": "https://localhost:8080/"
    },
    "executionInfo": {
     "elapsed": 15723,
     "status": "ok",
     "timestamp": 1677157796865,
     "user": {
      "displayName": "REINEL TABARES SOTO",
      "userId": "06191532127423773923"
     },
     "user_tz": 300
    },
    "id": "gqPq0m4_LVI9",
    "outputId": "7959455e-359c-4f05-b3f7-04d0f6bc09b1"
   },
   "outputs": [
    {
     "name": "stdout",
     "output_type": "stream",
     "text": [
      "Looking in indexes: https://pypi.org/simple, https://us-python.pkg.dev/colab-wheels/public/simple/\n",
      "Collecting rpy2==3.5.1\n",
      "  Downloading rpy2-3.5.1.tar.gz (201 kB)\n",
      "\u001b[2K     \u001b[90m━━━━━━━━━━━━━━━━━━━━━━━━━━━━━━━━━━━━━━\u001b[0m \u001b[32m201.7/201.7 KB\u001b[0m \u001b[31m15.2 MB/s\u001b[0m eta \u001b[36m0:00:00\u001b[0m\n",
      "\u001b[?25h  Preparing metadata (setup.py) ... \u001b[?25l\u001b[?25hdone\n",
      "Requirement already satisfied: cffi>=1.10.0 in /usr/local/lib/python3.8/dist-packages (from rpy2==3.5.1) (1.15.1)\n",
      "Requirement already satisfied: jinja2 in /usr/local/lib/python3.8/dist-packages (from rpy2==3.5.1) (2.11.3)\n",
      "Requirement already satisfied: pytz in /usr/local/lib/python3.8/dist-packages (from rpy2==3.5.1) (2022.7.1)\n",
      "Requirement already satisfied: tzlocal in /usr/local/lib/python3.8/dist-packages (from rpy2==3.5.1) (1.5.1)\n",
      "Requirement already satisfied: pycparser in /usr/local/lib/python3.8/dist-packages (from cffi>=1.10.0->rpy2==3.5.1) (2.21)\n",
      "Requirement already satisfied: MarkupSafe>=0.23 in /usr/local/lib/python3.8/dist-packages (from jinja2->rpy2==3.5.1) (2.0.1)\n",
      "Building wheels for collected packages: rpy2\n",
      "  Building wheel for rpy2 (setup.py) ... \u001b[?25l\u001b[?25hdone\n",
      "  Created wheel for rpy2: filename=rpy2-3.5.1-cp38-cp38-linux_x86_64.whl size=318371 sha256=03c505c6cf6998cf2b77a5298f1fd007d9a667c640558f2b2d234b5083110e75\n",
      "  Stored in directory: /root/.cache/pip/wheels/6b/40/7d/f63e87fd83e8b99ee837c8e3489081c4b3489134bc520235ed\n",
      "Successfully built rpy2\n",
      "Installing collected packages: rpy2\n",
      "  Attempting uninstall: rpy2\n",
      "    Found existing installation: rpy2 3.5.5\n",
      "    Uninstalling rpy2-3.5.5:\n",
      "      Successfully uninstalled rpy2-3.5.5\n",
      "Successfully installed rpy2-3.5.1\n"
     ]
    }
   ],
   "source": [
    "# Instalar versión compatible\n",
    "!pip install rpy2==3.5.1"
   ]
  },
  {
   "cell_type": "code",
   "execution_count": 55,
   "metadata": {
    "executionInfo": {
     "elapsed": 2909,
     "status": "ok",
     "timestamp": 1677157802873,
     "user": {
      "displayName": "REINEL TABARES SOTO",
      "userId": "06191532127423773923"
     },
     "user_tz": 300
    },
    "id": "1y-ssAkOHtji"
   },
   "outputs": [],
   "source": [
    "# activate R magic\n",
    "%load_ext rpy2.ipython"
   ]
  },
  {
   "cell_type": "code",
   "execution_count": 56,
   "metadata": {
    "colab": {
     "base_uri": "https://localhost:8080/"
    },
    "executionInfo": {
     "elapsed": 312,
     "status": "ok",
     "timestamp": 1677157806996,
     "user": {
      "displayName": "REINEL TABARES SOTO",
      "userId": "06191532127423773923"
     },
     "user_tz": 300
    },
    "id": "Z-5bvAVkMHr3",
    "outputId": "54697834-4147-4e3d-f528-626e7b63dec6"
   },
   "outputs": [
    {
     "name": "stdout",
     "output_type": "stream",
     "text": [
      "R version 4.2.2 Patched (2022-11-10 r83330) -- \"Innocent and Trusting\"\n",
      "Copyright (C) 2022 The R Foundation for Statistical Computing\n",
      "Platform: x86_64-pc-linux-gnu (64-bit)\n",
      "\n",
      "R is free software and comes with ABSOLUTELY NO WARRANTY.\n",
      "You are welcome to redistribute it under the terms of the\n",
      "GNU General Public License versions 2 or 3.\n",
      "For more information about these matters see\n",
      "https://www.gnu.org/licenses/.\n",
      "\n"
     ]
    }
   ],
   "source": [
    "!R --version"
   ]
  },
  {
   "cell_type": "code",
   "execution_count": 57,
   "metadata": {
    "colab": {
     "base_uri": "https://localhost:8080/"
    },
    "executionInfo": {
     "elapsed": 893,
     "status": "ok",
     "timestamp": 1677157811069,
     "user": {
      "displayName": "REINEL TABARES SOTO",
      "userId": "06191532127423773923"
     },
     "user_tz": 300
    },
    "id": "B9gR1qcXHtji",
    "outputId": "0b8542d3-f4c8-420b-b189-820920cf77df"
   },
   "outputs": [
    {
     "name": "stdout",
     "output_type": "stream",
     "text": [
      "[1] 1\n",
      "[1] 2\n",
      "[1] 3\n",
      "[1] 4\n",
      "[1] 5\n"
     ]
    }
   ],
   "source": [
    "%%R\n",
    "i <- 1\n",
    "while (i < 6) {\n",
    "  print(i)\n",
    "  i <- i + 1\n",
    "}"
   ]
  },
  {
   "cell_type": "code",
   "execution_count": null,
   "metadata": {
    "id": "a3YnHK63l5Gv"
   },
   "outputs": [],
   "source": []
  }
 ],
 "metadata": {
  "celltoolbar": "Tags",
  "colab": {
   "collapsed_sections": [
    "ctMrgygRj4P9",
    "1lUE56WVcjNe",
    "3hlnkzulMowX",
    "ZjMoIUxaMuad",
    "lKx8eEftMxy5",
    "Ys3SHgrXM028",
    "Cji6RCgSHtjh"
   ],
   "provenance": [
    {
     "file_id": "1cW_3McCwTe6Hnm-ZFO4RgLqwnMBKeXQd",
     "timestamp": 1649103608968
    }
   ]
  },
  "gpuClass": "standard",
  "kernelspec": {
   "display_name": "Python 3 (ipykernel)",
   "language": "python",
   "name": "python3"
  },
  "language_info": {
   "codemirror_mode": {
    "name": "ipython",
    "version": 3
   },
   "file_extension": ".py",
   "mimetype": "text/x-python",
   "name": "python",
   "nbconvert_exporter": "python",
   "pygments_lexer": "ipython3",
   "version": "3.8.12"
  },
  "toc": {
   "toc_cell": false,
   "toc_number_sections": true,
   "toc_threshold": 6,
   "toc_window_display": false
  }
 },
 "nbformat": 4,
 "nbformat_minor": 0
}